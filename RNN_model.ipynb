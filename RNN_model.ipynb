{
  "cells": [
    {
      "cell_type": "markdown",
      "metadata": {
        "id": "view-in-github",
        "colab_type": "text"
      },
      "source": [
        "<a href=\"https://colab.research.google.com/github/KruglikovAnton/KruglikovAnton/blob/main/RNN_model.ipynb\" target=\"_parent\"><img src=\"https://colab.research.google.com/assets/colab-badge.svg\" alt=\"Open In Colab\"/></a>"
      ]
    },
    {
      "cell_type": "code",
      "execution_count": 1,
      "metadata": {
        "colab": {
          "base_uri": "https://localhost:8080/",
          "height": 1000
        },
        "id": "Ogb6NK4VGc8W",
        "outputId": "b32e9669-1079-40f9-8b94-97588b49b81e"
      },
      "outputs": [
        {
          "output_type": "stream",
          "name": "stderr",
          "text": [
            "[nltk_data] Downloading package stopwords to /root/nltk_data...\n",
            "[nltk_data]   Unzipping corpora/stopwords.zip.\n",
            "[nltk_data] Downloading package punkt to /root/nltk_data...\n",
            "[nltk_data]   Unzipping tokenizers/punkt.zip.\n"
          ]
        },
        {
          "output_type": "stream",
          "name": "stdout",
          "text": [
            "Looking in indexes: https://pypi.org/simple, https://us-python.pkg.dev/colab-wheels/public/simple/\n",
            "Collecting livelossplot\n",
            "  Downloading livelossplot-0.5.5-py3-none-any.whl (22 kB)\n",
            "Requirement already satisfied: bokeh in /usr/local/lib/python3.7/dist-packages (from livelossplot) (2.3.3)\n",
            "Requirement already satisfied: numpy<1.22 in /usr/local/lib/python3.7/dist-packages (from livelossplot) (1.21.6)\n",
            "Requirement already satisfied: matplotlib in /usr/local/lib/python3.7/dist-packages (from livelossplot) (3.2.2)\n",
            "Collecting ipython==7.*\n",
            "  Downloading ipython-7.34.0-py3-none-any.whl (793 kB)\n",
            "\u001b[K     |████████████████████████████████| 793 kB 47.7 MB/s \n",
            "\u001b[?25hRequirement already satisfied: jedi>=0.16 in /usr/local/lib/python3.7/dist-packages (from ipython==7.*->livelossplot) (0.18.1)\n",
            "Requirement already satisfied: decorator in /usr/local/lib/python3.7/dist-packages (from ipython==7.*->livelossplot) (4.4.2)\n",
            "Requirement already satisfied: setuptools>=18.5 in /usr/local/lib/python3.7/dist-packages (from ipython==7.*->livelossplot) (57.4.0)\n",
            "Collecting prompt-toolkit!=3.0.0,!=3.0.1,<3.1.0,>=2.0.0\n",
            "  Downloading prompt_toolkit-3.0.30-py3-none-any.whl (381 kB)\n",
            "\u001b[K     |████████████████████████████████| 381 kB 54.9 MB/s \n",
            "\u001b[?25hRequirement already satisfied: pexpect>4.3 in /usr/local/lib/python3.7/dist-packages (from ipython==7.*->livelossplot) (4.8.0)\n",
            "Requirement already satisfied: traitlets>=4.2 in /usr/local/lib/python3.7/dist-packages (from ipython==7.*->livelossplot) (5.1.1)\n",
            "Requirement already satisfied: backcall in /usr/local/lib/python3.7/dist-packages (from ipython==7.*->livelossplot) (0.2.0)\n",
            "Requirement already satisfied: pickleshare in /usr/local/lib/python3.7/dist-packages (from ipython==7.*->livelossplot) (0.7.5)\n",
            "Requirement already satisfied: pygments in /usr/local/lib/python3.7/dist-packages (from ipython==7.*->livelossplot) (2.6.1)\n",
            "Requirement already satisfied: matplotlib-inline in /usr/local/lib/python3.7/dist-packages (from ipython==7.*->livelossplot) (0.1.3)\n",
            "Requirement already satisfied: parso<0.9.0,>=0.8.0 in /usr/local/lib/python3.7/dist-packages (from jedi>=0.16->ipython==7.*->livelossplot) (0.8.3)\n",
            "Requirement already satisfied: ptyprocess>=0.5 in /usr/local/lib/python3.7/dist-packages (from pexpect>4.3->ipython==7.*->livelossplot) (0.7.0)\n",
            "Requirement already satisfied: wcwidth in /usr/local/lib/python3.7/dist-packages (from prompt-toolkit!=3.0.0,!=3.0.1,<3.1.0,>=2.0.0->ipython==7.*->livelossplot) (0.2.5)\n",
            "Requirement already satisfied: PyYAML>=3.10 in /usr/local/lib/python3.7/dist-packages (from bokeh->livelossplot) (3.13)\n",
            "Requirement already satisfied: python-dateutil>=2.1 in /usr/local/lib/python3.7/dist-packages (from bokeh->livelossplot) (2.8.2)\n",
            "Requirement already satisfied: packaging>=16.8 in /usr/local/lib/python3.7/dist-packages (from bokeh->livelossplot) (21.3)\n",
            "Requirement already satisfied: pillow>=7.1.0 in /usr/local/lib/python3.7/dist-packages (from bokeh->livelossplot) (7.1.2)\n",
            "Requirement already satisfied: typing-extensions>=3.7.4 in /usr/local/lib/python3.7/dist-packages (from bokeh->livelossplot) (4.1.1)\n",
            "Requirement already satisfied: tornado>=5.1 in /usr/local/lib/python3.7/dist-packages (from bokeh->livelossplot) (5.1.1)\n",
            "Requirement already satisfied: Jinja2>=2.9 in /usr/local/lib/python3.7/dist-packages (from bokeh->livelossplot) (2.11.3)\n",
            "Requirement already satisfied: MarkupSafe>=0.23 in /usr/local/lib/python3.7/dist-packages (from Jinja2>=2.9->bokeh->livelossplot) (2.0.1)\n",
            "Requirement already satisfied: pyparsing!=3.0.5,>=2.0.2 in /usr/local/lib/python3.7/dist-packages (from packaging>=16.8->bokeh->livelossplot) (3.0.9)\n",
            "Requirement already satisfied: six>=1.5 in /usr/local/lib/python3.7/dist-packages (from python-dateutil>=2.1->bokeh->livelossplot) (1.15.0)\n",
            "Requirement already satisfied: kiwisolver>=1.0.1 in /usr/local/lib/python3.7/dist-packages (from matplotlib->livelossplot) (1.4.3)\n",
            "Requirement already satisfied: cycler>=0.10 in /usr/local/lib/python3.7/dist-packages (from matplotlib->livelossplot) (0.11.0)\n",
            "Installing collected packages: prompt-toolkit, ipython, livelossplot\n",
            "  Attempting uninstall: prompt-toolkit\n",
            "    Found existing installation: prompt-toolkit 1.0.18\n",
            "    Uninstalling prompt-toolkit-1.0.18:\n",
            "      Successfully uninstalled prompt-toolkit-1.0.18\n",
            "  Attempting uninstall: ipython\n",
            "    Found existing installation: ipython 5.5.0\n",
            "    Uninstalling ipython-5.5.0:\n",
            "      Successfully uninstalled ipython-5.5.0\n",
            "\u001b[31mERROR: pip's dependency resolver does not currently take into account all the packages that are installed. This behaviour is the source of the following dependency conflicts.\n",
            "jupyter-console 5.2.0 requires prompt-toolkit<2.0.0,>=1.0.0, but you have prompt-toolkit 3.0.30 which is incompatible.\n",
            "google-colab 1.0.0 requires ipython~=5.5.0, but you have ipython 7.34.0 which is incompatible.\u001b[0m\n",
            "Successfully installed ipython-7.34.0 livelossplot-0.5.5 prompt-toolkit-3.0.30\n"
          ]
        },
        {
          "output_type": "display_data",
          "data": {
            "application/vnd.colab-display-data+json": {
              "pip_warning": {
                "packages": [
                  "IPython",
                  "prompt_toolkit"
                ]
              }
            }
          },
          "metadata": {}
        },
        {
          "output_type": "stream",
          "name": "stderr",
          "text": [
            "[nltk_data] Downloading package wordnet to /root/nltk_data...\n",
            "[nltk_data] Downloading package omw-1.4 to /root/nltk_data...\n"
          ]
        },
        {
          "output_type": "execute_result",
          "data": {
            "text/plain": [
              "True"
            ]
          },
          "metadata": {},
          "execution_count": 1
        }
      ],
      "source": [
        "#Загружаем необходимые библиотеки\n",
        "import tensorflow as tf\n",
        "import pandas as pd\n",
        "import string\n",
        "import nltk\n",
        "nltk.download('stopwords')\n",
        "nltk.download('punkt')\n",
        "from nltk.corpus import stopwords\n",
        "import nltk\n",
        "import numpy as np\n",
        "eng_stops = set(stopwords.words('english'))\n",
        "from matplotlib import pyplot as plt\n",
        "import seaborn as sns\n",
        "from sklearn.model_selection import train_test_split\n",
        "from typing import List, Dict\n",
        "import os \n",
        "from pathlib import Path\n",
        "from nltk.stem import WordNetLemmatizer\n",
        "from google.colab import drive\n",
        "!pip install livelossplot\n",
        "from livelossplot import PlotLossesKeras\n",
        "nltk.download('wordnet')\n",
        "nltk.download('omw-1.4')"
      ]
    },
    {
      "cell_type": "code",
      "execution_count": 2,
      "metadata": {
        "colab": {
          "base_uri": "https://localhost:8080/"
        },
        "id": "renptrusI7z6",
        "outputId": "70e9fc43-b765-4c97-f2d1-617759d58944"
      },
      "outputs": [
        {
          "output_type": "stream",
          "name": "stderr",
          "text": [
            "Downloading...\n",
            "From: https://drive.google.com/uc?id=1TRRMu3XZOkIYBG-5zzs1MdZbYmXbPsl2\n",
            "To: /data/Genre_Classification_Dataset.zip\n",
            "100%|██████████| 43.2M/43.2M [00:01<00:00, 36.0MB/s]\n"
          ]
        },
        {
          "output_type": "stream",
          "name": "stdout",
          "text": [
            "Archive:  /data/Genre_Classification_Dataset.zip\n",
            "  inflating: /data/Genre Classification Dataset/description.txt  \n",
            "  inflating: /data/Genre Classification Dataset/train_data.txt  \n",
            "  inflating: /data/Genre Classification Dataset/test_data.txt  \n",
            "  inflating: /data/Genre Classification Dataset/test_data_solution.txt  \n"
          ]
        }
      ],
      "source": [
        "#Загружаем данные\n",
        "import gdown\n",
        "p = Path('/data')\n",
        "p.mkdir(parents=True, exist_ok=True)\n",
        "\n",
        "url='https://drive.google.com/uc?id=1TRRMu3XZOkIYBG-5zzs1MdZbYmXbPsl2'\n",
        "output = '/data/Genre_Classification_Dataset.zip'\n",
        "gdown.download(url, output)\n",
        "\n",
        "!unzip '/data/Genre_Classification_Dataset.zip' -d '/data'"
      ]
    },
    {
      "cell_type": "code",
      "execution_count": 3,
      "metadata": {
        "id": "xzPka43myGB9",
        "colab": {
          "base_uri": "https://localhost:8080/",
          "height": 206
        },
        "outputId": "dda0398d-8b4f-4a8a-cbeb-af98908e97f7"
      },
      "outputs": [
        {
          "output_type": "execute_result",
          "data": {
            "text/plain": [
              "                                   films_name      genre  \\\n",
              "31955                       Vie d'ange (1979)     comedy   \n",
              "14352  \"C-Suite with Jeffrey Hayzlett\" (2013)       news   \n",
              "8628                             Kadin (2007)      drama   \n",
              "45829                         Crossway (2012)  adventure   \n",
              "8542                   Tin chok ji hap (2004)      drama   \n",
              "\n",
              "                                             description  \n",
              "31955  Quand ils se sont aperçus dans une garden part...  \n",
              "14352  \"C-Suite with Jeffrey Hayzlett,\" is an origina...  \n",
              "8628   Peping wakes up to find out that Gima, their g...  \n",
              "45829  Through the window of an airliner, in the dist...  \n",
              "8542   Joanna wanted to become a physician. After she...  "
            ],
            "text/html": [
              "\n",
              "  <div id=\"df-64ceeaa1-f42e-4e9f-ac8d-0b4546354a24\">\n",
              "    <div class=\"colab-df-container\">\n",
              "      <div>\n",
              "<style scoped>\n",
              "    .dataframe tbody tr th:only-of-type {\n",
              "        vertical-align: middle;\n",
              "    }\n",
              "\n",
              "    .dataframe tbody tr th {\n",
              "        vertical-align: top;\n",
              "    }\n",
              "\n",
              "    .dataframe thead th {\n",
              "        text-align: right;\n",
              "    }\n",
              "</style>\n",
              "<table border=\"1\" class=\"dataframe\">\n",
              "  <thead>\n",
              "    <tr style=\"text-align: right;\">\n",
              "      <th></th>\n",
              "      <th>films_name</th>\n",
              "      <th>genre</th>\n",
              "      <th>description</th>\n",
              "    </tr>\n",
              "  </thead>\n",
              "  <tbody>\n",
              "    <tr>\n",
              "      <th>31955</th>\n",
              "      <td>Vie d'ange (1979)</td>\n",
              "      <td>comedy</td>\n",
              "      <td>Quand ils se sont aperçus dans une garden part...</td>\n",
              "    </tr>\n",
              "    <tr>\n",
              "      <th>14352</th>\n",
              "      <td>\"C-Suite with Jeffrey Hayzlett\" (2013)</td>\n",
              "      <td>news</td>\n",
              "      <td>\"C-Suite with Jeffrey Hayzlett,\" is an origina...</td>\n",
              "    </tr>\n",
              "    <tr>\n",
              "      <th>8628</th>\n",
              "      <td>Kadin (2007)</td>\n",
              "      <td>drama</td>\n",
              "      <td>Peping wakes up to find out that Gima, their g...</td>\n",
              "    </tr>\n",
              "    <tr>\n",
              "      <th>45829</th>\n",
              "      <td>Crossway (2012)</td>\n",
              "      <td>adventure</td>\n",
              "      <td>Through the window of an airliner, in the dist...</td>\n",
              "    </tr>\n",
              "    <tr>\n",
              "      <th>8542</th>\n",
              "      <td>Tin chok ji hap (2004)</td>\n",
              "      <td>drama</td>\n",
              "      <td>Joanna wanted to become a physician. After she...</td>\n",
              "    </tr>\n",
              "  </tbody>\n",
              "</table>\n",
              "</div>\n",
              "      <button class=\"colab-df-convert\" onclick=\"convertToInteractive('df-64ceeaa1-f42e-4e9f-ac8d-0b4546354a24')\"\n",
              "              title=\"Convert this dataframe to an interactive table.\"\n",
              "              style=\"display:none;\">\n",
              "        \n",
              "  <svg xmlns=\"http://www.w3.org/2000/svg\" height=\"24px\"viewBox=\"0 0 24 24\"\n",
              "       width=\"24px\">\n",
              "    <path d=\"M0 0h24v24H0V0z\" fill=\"none\"/>\n",
              "    <path d=\"M18.56 5.44l.94 2.06.94-2.06 2.06-.94-2.06-.94-.94-2.06-.94 2.06-2.06.94zm-11 1L8.5 8.5l.94-2.06 2.06-.94-2.06-.94L8.5 2.5l-.94 2.06-2.06.94zm10 10l.94 2.06.94-2.06 2.06-.94-2.06-.94-.94-2.06-.94 2.06-2.06.94z\"/><path d=\"M17.41 7.96l-1.37-1.37c-.4-.4-.92-.59-1.43-.59-.52 0-1.04.2-1.43.59L10.3 9.45l-7.72 7.72c-.78.78-.78 2.05 0 2.83L4 21.41c.39.39.9.59 1.41.59.51 0 1.02-.2 1.41-.59l7.78-7.78 2.81-2.81c.8-.78.8-2.07 0-2.86zM5.41 20L4 18.59l7.72-7.72 1.47 1.35L5.41 20z\"/>\n",
              "  </svg>\n",
              "      </button>\n",
              "      \n",
              "  <style>\n",
              "    .colab-df-container {\n",
              "      display:flex;\n",
              "      flex-wrap:wrap;\n",
              "      gap: 12px;\n",
              "    }\n",
              "\n",
              "    .colab-df-convert {\n",
              "      background-color: #E8F0FE;\n",
              "      border: none;\n",
              "      border-radius: 50%;\n",
              "      cursor: pointer;\n",
              "      display: none;\n",
              "      fill: #1967D2;\n",
              "      height: 32px;\n",
              "      padding: 0 0 0 0;\n",
              "      width: 32px;\n",
              "    }\n",
              "\n",
              "    .colab-df-convert:hover {\n",
              "      background-color: #E2EBFA;\n",
              "      box-shadow: 0px 1px 2px rgba(60, 64, 67, 0.3), 0px 1px 3px 1px rgba(60, 64, 67, 0.15);\n",
              "      fill: #174EA6;\n",
              "    }\n",
              "\n",
              "    [theme=dark] .colab-df-convert {\n",
              "      background-color: #3B4455;\n",
              "      fill: #D2E3FC;\n",
              "    }\n",
              "\n",
              "    [theme=dark] .colab-df-convert:hover {\n",
              "      background-color: #434B5C;\n",
              "      box-shadow: 0px 1px 3px 1px rgba(0, 0, 0, 0.15);\n",
              "      filter: drop-shadow(0px 1px 2px rgba(0, 0, 0, 0.3));\n",
              "      fill: #FFFFFF;\n",
              "    }\n",
              "  </style>\n",
              "\n",
              "      <script>\n",
              "        const buttonEl =\n",
              "          document.querySelector('#df-64ceeaa1-f42e-4e9f-ac8d-0b4546354a24 button.colab-df-convert');\n",
              "        buttonEl.style.display =\n",
              "          google.colab.kernel.accessAllowed ? 'block' : 'none';\n",
              "\n",
              "        async function convertToInteractive(key) {\n",
              "          const element = document.querySelector('#df-64ceeaa1-f42e-4e9f-ac8d-0b4546354a24');\n",
              "          const dataTable =\n",
              "            await google.colab.kernel.invokeFunction('convertToInteractive',\n",
              "                                                     [key], {});\n",
              "          if (!dataTable) return;\n",
              "\n",
              "          const docLinkHtml = 'Like what you see? Visit the ' +\n",
              "            '<a target=\"_blank\" href=https://colab.research.google.com/notebooks/data_table.ipynb>data table notebook</a>'\n",
              "            + ' to learn more about interactive tables.';\n",
              "          element.innerHTML = '';\n",
              "          dataTable['output_type'] = 'display_data';\n",
              "          await google.colab.output.renderOutput(dataTable, element);\n",
              "          const docLink = document.createElement('div');\n",
              "          docLink.innerHTML = docLinkHtml;\n",
              "          element.appendChild(docLink);\n",
              "        }\n",
              "      </script>\n",
              "    </div>\n",
              "  </div>\n",
              "  "
            ]
          },
          "metadata": {},
          "execution_count": 3
        }
      ],
      "source": [
        "# Путем считывания файлов формируем тренировочный и тестовый датафрэймы\n",
        "train_dict = {'films_name':[], 'genre':[], 'description':[]}\n",
        "test_dict = {'films_name':[], 'genre':[], 'description':[]}\n",
        "with open('/data/Genre Classification Dataset/train_data.txt', 'r') as f:\n",
        "    for i, line in enumerate(f):\n",
        "        train_dict['films_name'].append(line.split(' ::: ')[1])\n",
        "        train_dict['genre'].append(line.split(' ::: ')[2])\n",
        "        train_dict['description'].append(line.split(' ::: ')[3])\n",
        "\n",
        "with open('/data/Genre Classification Dataset/test_data_solution.txt', 'r') as f:\n",
        "    for i, line in enumerate(f):\n",
        "        test_dict['films_name'].append(line.split(' ::: ')[1])\n",
        "        test_dict['genre'].append(line.split(' ::: ')[2])\n",
        "        test_dict['description'].append(line.split(' ::: ')[3])\n",
        "\n",
        "test_df = pd.DataFrame(test_dict)\n",
        "\n",
        "main_df = pd.DataFrame(train_dict)\n",
        "main_df.sample(5)"
      ]
    },
    {
      "cell_type": "code",
      "execution_count": 4,
      "metadata": {
        "id": "-OhiVponxawp",
        "colab": {
          "base_uri": "https://localhost:8080/",
          "height": 206
        },
        "outputId": "e675474c-13ee-4125-d722-3a7693117db1"
      },
      "outputs": [
        {
          "output_type": "execute_result",
          "data": {
            "text/plain": [
              "                         films_name     genre  \\\n",
              "0      Oscar et la dame rose (2009)     drama   \n",
              "1                      Cupid (1997)  thriller   \n",
              "2  Young, Wild and Wonderful (1980)     adult   \n",
              "3             The Secret Sin (1915)     drama   \n",
              "4            The Unrecovered (2007)     drama   \n",
              "\n",
              "                                         description  \\\n",
              "0  Listening in to a conversation between his doc...   \n",
              "1  A brother and sister with a past incestuous re...   \n",
              "2  As the bus empties the students for their fiel...   \n",
              "3  To help their unemployed father make ends meet...   \n",
              "4  The film's title refers not only to the un-rec...   \n",
              "\n",
              "                               description_tokenized  \n",
              "0  [listening, conversation, doctor, parents, 10-...  \n",
              "1  [brother, sister, past, incestuous, relationsh...  \n",
              "2  [bus, empties, students, field, trip, museum, ...  \n",
              "3  [help, unemployed, father, make, ends, meet, e...  \n",
              "4  [film, 's, title, refers, un-recovered, bodies...  "
            ],
            "text/html": [
              "\n",
              "  <div id=\"df-a5868f4b-7c64-47d4-893f-180a77726bea\">\n",
              "    <div class=\"colab-df-container\">\n",
              "      <div>\n",
              "<style scoped>\n",
              "    .dataframe tbody tr th:only-of-type {\n",
              "        vertical-align: middle;\n",
              "    }\n",
              "\n",
              "    .dataframe tbody tr th {\n",
              "        vertical-align: top;\n",
              "    }\n",
              "\n",
              "    .dataframe thead th {\n",
              "        text-align: right;\n",
              "    }\n",
              "</style>\n",
              "<table border=\"1\" class=\"dataframe\">\n",
              "  <thead>\n",
              "    <tr style=\"text-align: right;\">\n",
              "      <th></th>\n",
              "      <th>films_name</th>\n",
              "      <th>genre</th>\n",
              "      <th>description</th>\n",
              "      <th>description_tokenized</th>\n",
              "    </tr>\n",
              "  </thead>\n",
              "  <tbody>\n",
              "    <tr>\n",
              "      <th>0</th>\n",
              "      <td>Oscar et la dame rose (2009)</td>\n",
              "      <td>drama</td>\n",
              "      <td>Listening in to a conversation between his doc...</td>\n",
              "      <td>[listening, conversation, doctor, parents, 10-...</td>\n",
              "    </tr>\n",
              "    <tr>\n",
              "      <th>1</th>\n",
              "      <td>Cupid (1997)</td>\n",
              "      <td>thriller</td>\n",
              "      <td>A brother and sister with a past incestuous re...</td>\n",
              "      <td>[brother, sister, past, incestuous, relationsh...</td>\n",
              "    </tr>\n",
              "    <tr>\n",
              "      <th>2</th>\n",
              "      <td>Young, Wild and Wonderful (1980)</td>\n",
              "      <td>adult</td>\n",
              "      <td>As the bus empties the students for their fiel...</td>\n",
              "      <td>[bus, empties, students, field, trip, museum, ...</td>\n",
              "    </tr>\n",
              "    <tr>\n",
              "      <th>3</th>\n",
              "      <td>The Secret Sin (1915)</td>\n",
              "      <td>drama</td>\n",
              "      <td>To help their unemployed father make ends meet...</td>\n",
              "      <td>[help, unemployed, father, make, ends, meet, e...</td>\n",
              "    </tr>\n",
              "    <tr>\n",
              "      <th>4</th>\n",
              "      <td>The Unrecovered (2007)</td>\n",
              "      <td>drama</td>\n",
              "      <td>The film's title refers not only to the un-rec...</td>\n",
              "      <td>[film, 's, title, refers, un-recovered, bodies...</td>\n",
              "    </tr>\n",
              "  </tbody>\n",
              "</table>\n",
              "</div>\n",
              "      <button class=\"colab-df-convert\" onclick=\"convertToInteractive('df-a5868f4b-7c64-47d4-893f-180a77726bea')\"\n",
              "              title=\"Convert this dataframe to an interactive table.\"\n",
              "              style=\"display:none;\">\n",
              "        \n",
              "  <svg xmlns=\"http://www.w3.org/2000/svg\" height=\"24px\"viewBox=\"0 0 24 24\"\n",
              "       width=\"24px\">\n",
              "    <path d=\"M0 0h24v24H0V0z\" fill=\"none\"/>\n",
              "    <path d=\"M18.56 5.44l.94 2.06.94-2.06 2.06-.94-2.06-.94-.94-2.06-.94 2.06-2.06.94zm-11 1L8.5 8.5l.94-2.06 2.06-.94-2.06-.94L8.5 2.5l-.94 2.06-2.06.94zm10 10l.94 2.06.94-2.06 2.06-.94-2.06-.94-.94-2.06-.94 2.06-2.06.94z\"/><path d=\"M17.41 7.96l-1.37-1.37c-.4-.4-.92-.59-1.43-.59-.52 0-1.04.2-1.43.59L10.3 9.45l-7.72 7.72c-.78.78-.78 2.05 0 2.83L4 21.41c.39.39.9.59 1.41.59.51 0 1.02-.2 1.41-.59l7.78-7.78 2.81-2.81c.8-.78.8-2.07 0-2.86zM5.41 20L4 18.59l7.72-7.72 1.47 1.35L5.41 20z\"/>\n",
              "  </svg>\n",
              "      </button>\n",
              "      \n",
              "  <style>\n",
              "    .colab-df-container {\n",
              "      display:flex;\n",
              "      flex-wrap:wrap;\n",
              "      gap: 12px;\n",
              "    }\n",
              "\n",
              "    .colab-df-convert {\n",
              "      background-color: #E8F0FE;\n",
              "      border: none;\n",
              "      border-radius: 50%;\n",
              "      cursor: pointer;\n",
              "      display: none;\n",
              "      fill: #1967D2;\n",
              "      height: 32px;\n",
              "      padding: 0 0 0 0;\n",
              "      width: 32px;\n",
              "    }\n",
              "\n",
              "    .colab-df-convert:hover {\n",
              "      background-color: #E2EBFA;\n",
              "      box-shadow: 0px 1px 2px rgba(60, 64, 67, 0.3), 0px 1px 3px 1px rgba(60, 64, 67, 0.15);\n",
              "      fill: #174EA6;\n",
              "    }\n",
              "\n",
              "    [theme=dark] .colab-df-convert {\n",
              "      background-color: #3B4455;\n",
              "      fill: #D2E3FC;\n",
              "    }\n",
              "\n",
              "    [theme=dark] .colab-df-convert:hover {\n",
              "      background-color: #434B5C;\n",
              "      box-shadow: 0px 1px 3px 1px rgba(0, 0, 0, 0.15);\n",
              "      filter: drop-shadow(0px 1px 2px rgba(0, 0, 0, 0.3));\n",
              "      fill: #FFFFFF;\n",
              "    }\n",
              "  </style>\n",
              "\n",
              "      <script>\n",
              "        const buttonEl =\n",
              "          document.querySelector('#df-a5868f4b-7c64-47d4-893f-180a77726bea button.colab-df-convert');\n",
              "        buttonEl.style.display =\n",
              "          google.colab.kernel.accessAllowed ? 'block' : 'none';\n",
              "\n",
              "        async function convertToInteractive(key) {\n",
              "          const element = document.querySelector('#df-a5868f4b-7c64-47d4-893f-180a77726bea');\n",
              "          const dataTable =\n",
              "            await google.colab.kernel.invokeFunction('convertToInteractive',\n",
              "                                                     [key], {});\n",
              "          if (!dataTable) return;\n",
              "\n",
              "          const docLinkHtml = 'Like what you see? Visit the ' +\n",
              "            '<a target=\"_blank\" href=https://colab.research.google.com/notebooks/data_table.ipynb>data table notebook</a>'\n",
              "            + ' to learn more about interactive tables.';\n",
              "          element.innerHTML = '';\n",
              "          dataTable['output_type'] = 'display_data';\n",
              "          await google.colab.output.renderOutput(dataTable, element);\n",
              "          const docLink = document.createElement('div');\n",
              "          docLink.innerHTML = docLinkHtml;\n",
              "          element.appendChild(docLink);\n",
              "        }\n",
              "      </script>\n",
              "    </div>\n",
              "  </div>\n",
              "  "
            ]
          },
          "metadata": {},
          "execution_count": 4
        }
      ],
      "source": [
        "# Напишем функцию токенизирования описаний, в которой удалим стоп слова и знаки препинания\n",
        "def text_tokenizer(text:str) -> List[str]:\n",
        "    text = text.lower()\n",
        "    list_of_words = nltk.word_tokenize(text)\n",
        "    list_of_words = [word for word in list_of_words if word not in eng_stops and word not in string.punctuation]\n",
        "    return list_of_words\n",
        "# Получаем токенизированные описания\n",
        "main_df['description_tokenized'] = main_df.description.apply(text_tokenizer)\n",
        "test_df['description_tokenized'] = test_df.description.apply(text_tokenizer)\n",
        "main_df.head()"
      ]
    },
    {
      "cell_type": "code",
      "execution_count": 11,
      "metadata": {
        "id": "hgdEA_dhy9rZ",
        "colab": {
          "base_uri": "https://localhost:8080/"
        },
        "outputId": "5f6b2b24-3150-4317-b146-d150739e9317"
      },
      "outputs": [
        {
          "output_type": "execute_result",
          "data": {
            "text/plain": [
              "107607"
            ]
          },
          "metadata": {},
          "execution_count": 11
        }
      ],
      "source": [
        "# Подготовим словарь. Можно составить его из слов, содержащихся в отзывах \n",
        "# тренировочного набора или использовать сторонний, например на основе датасета \n",
        "# с отзывами tf.keras.datasets.imdb. На данном этапе формируем собственный словарь\n",
        "wnl = WordNetLemmatizer()\n",
        "#Удаляем все слова, содержащие цифры\n",
        "vocab = set(word for text in main_df.description_tokenized.values for word in text if not(any(map(str.isdigit, word))))\n",
        "#Удаляем все слова, содержащие знаки пунктуации внутри слов (self-estimation и т.д.)\n",
        "vocab = set(word for word in vocab if not(any(char in string.punctuation for char in word)))\n",
        "#Также переведем слова в стандартную форму\n",
        "vocab = set(wnl.lemmatize(word) for word in vocab)\n",
        "#Добавим индексы для паддинга и неизвестных слов(которых не окажется в словаре)\n",
        "vocab = {word: idx+2 for (idx, word) in enumerate(vocab)}\n",
        "vocab['<Unknown>'] = 0\n",
        "vocab['<PAD>'] = 1\n",
        "len(vocab)"
      ]
    },
    {
      "cell_type": "markdown",
      "source": [
        "Довольно большая длина, что может увеличить время  обучения. Пока что не будем уменьшать"
      ],
      "metadata": {
        "id": "uov-YT1fFLo3"
      }
    },
    {
      "cell_type": "code",
      "execution_count": 12,
      "metadata": {
        "id": "Ltm9ZL287Aoc"
      },
      "outputs": [],
      "source": [
        "# На начальном этапе будем кодировать каждое слово в описании путем присваивания ему его индекса из словаря. \n",
        "def encode_word(text: List[str]) -> List[int]:\n",
        "    list_of_indexes = [vocab.get(word, 0) for word in text]\n",
        "    return(list_of_indexes)\n"
      ]
    },
    {
      "cell_type": "code",
      "execution_count": 13,
      "metadata": {
        "colab": {
          "base_uri": "https://localhost:8080/"
        },
        "id": "0D4TgbkroEu7",
        "outputId": "7e9eba12-7e31-4ba8-a4d9-7d9096287d4c"
      },
      "outputs": [
        {
          "output_type": "execute_result",
          "data": {
            "text/plain": [
              "[45114, 71395]"
            ]
          },
          "metadata": {},
          "execution_count": 13
        }
      ],
      "source": [
        "# Тестируем функцию\n",
        "text = 'hello world'\n",
        "encode_word(text.split())"
      ]
    },
    {
      "cell_type": "code",
      "execution_count": 14,
      "metadata": {
        "colab": {
          "base_uri": "https://localhost:8080/",
          "height": 206
        },
        "id": "3oR9uTERq-Uh",
        "outputId": "a3d1a114-fbcf-451b-e17a-b33eae519a71"
      },
      "outputs": [
        {
          "output_type": "execute_result",
          "data": {
            "text/plain": [
              "                      films_name        genre  \\\n",
              "8326   Fury of the Jungle (1933)        drama   \n",
              "31548      Spies and Lies (2010)        drama   \n",
              "39448       250 Stepenika (2017)  documentary   \n",
              "31345         Easy Cheeks (2002)        adult   \n",
              "5213           One by One (????)       horror   \n",
              "\n",
              "                                             description  \\\n",
              "8326   Joan Leesom is stranded in a remote South Amer...   \n",
              "31548  Based on the book: 'The Plot to Subvert Wartim...   \n",
              "39448  The documentary film \"250 Steps\" is dedicated ...   \n",
              "31345  1976. Los Angeles. The underbelly. Nights here...   \n",
              "5213   August 30th, 1985. Southern California is terr...   \n",
              "\n",
              "                                   description_tokenized  \\\n",
              "8326   [joan, leesom, stranded, remote, south, americ...   \n",
              "31548  [based, book, 'the, plot, subvert, wartime, ne...   \n",
              "39448  [documentary, film, ``, 250, steps, '', dedica...   \n",
              "31345  [1976., los, angeles, underbelly, nights, long...   \n",
              "5213   [august, 30th, 1985., southern, california, te...   \n",
              "\n",
              "                                     description_encoded  genre_numeric  \n",
              "8326   [52173, 103560, 68944, 25531, 75408, 10303, 74...              8  \n",
              "31548  [160, 94488, 0, 63026, 41802, 85960, 90658, 49...              8  \n",
              "39448  [90322, 50128, 0, 0, 0, 0, 67937, 17272, 98495...              7  \n",
              "31345  [0, 44479, 26089, 69113, 0, 87518, 103102, 136...              1  \n",
              "5213   [96204, 0, 0, 54376, 45289, 103385, 33017, 812...             13  "
            ],
            "text/html": [
              "\n",
              "  <div id=\"df-feb7094f-c2f3-44cf-ab37-62f42c6889cb\">\n",
              "    <div class=\"colab-df-container\">\n",
              "      <div>\n",
              "<style scoped>\n",
              "    .dataframe tbody tr th:only-of-type {\n",
              "        vertical-align: middle;\n",
              "    }\n",
              "\n",
              "    .dataframe tbody tr th {\n",
              "        vertical-align: top;\n",
              "    }\n",
              "\n",
              "    .dataframe thead th {\n",
              "        text-align: right;\n",
              "    }\n",
              "</style>\n",
              "<table border=\"1\" class=\"dataframe\">\n",
              "  <thead>\n",
              "    <tr style=\"text-align: right;\">\n",
              "      <th></th>\n",
              "      <th>films_name</th>\n",
              "      <th>genre</th>\n",
              "      <th>description</th>\n",
              "      <th>description_tokenized</th>\n",
              "      <th>description_encoded</th>\n",
              "      <th>genre_numeric</th>\n",
              "    </tr>\n",
              "  </thead>\n",
              "  <tbody>\n",
              "    <tr>\n",
              "      <th>8326</th>\n",
              "      <td>Fury of the Jungle (1933)</td>\n",
              "      <td>drama</td>\n",
              "      <td>Joan Leesom is stranded in a remote South Amer...</td>\n",
              "      <td>[joan, leesom, stranded, remote, south, americ...</td>\n",
              "      <td>[52173, 103560, 68944, 25531, 75408, 10303, 74...</td>\n",
              "      <td>8</td>\n",
              "    </tr>\n",
              "    <tr>\n",
              "      <th>31548</th>\n",
              "      <td>Spies and Lies (2010)</td>\n",
              "      <td>drama</td>\n",
              "      <td>Based on the book: 'The Plot to Subvert Wartim...</td>\n",
              "      <td>[based, book, 'the, plot, subvert, wartime, ne...</td>\n",
              "      <td>[160, 94488, 0, 63026, 41802, 85960, 90658, 49...</td>\n",
              "      <td>8</td>\n",
              "    </tr>\n",
              "    <tr>\n",
              "      <th>39448</th>\n",
              "      <td>250 Stepenika (2017)</td>\n",
              "      <td>documentary</td>\n",
              "      <td>The documentary film \"250 Steps\" is dedicated ...</td>\n",
              "      <td>[documentary, film, ``, 250, steps, '', dedica...</td>\n",
              "      <td>[90322, 50128, 0, 0, 0, 0, 67937, 17272, 98495...</td>\n",
              "      <td>7</td>\n",
              "    </tr>\n",
              "    <tr>\n",
              "      <th>31345</th>\n",
              "      <td>Easy Cheeks (2002)</td>\n",
              "      <td>adult</td>\n",
              "      <td>1976. Los Angeles. The underbelly. Nights here...</td>\n",
              "      <td>[1976., los, angeles, underbelly, nights, long...</td>\n",
              "      <td>[0, 44479, 26089, 69113, 0, 87518, 103102, 136...</td>\n",
              "      <td>1</td>\n",
              "    </tr>\n",
              "    <tr>\n",
              "      <th>5213</th>\n",
              "      <td>One by One (????)</td>\n",
              "      <td>horror</td>\n",
              "      <td>August 30th, 1985. Southern California is terr...</td>\n",
              "      <td>[august, 30th, 1985., southern, california, te...</td>\n",
              "      <td>[96204, 0, 0, 54376, 45289, 103385, 33017, 812...</td>\n",
              "      <td>13</td>\n",
              "    </tr>\n",
              "  </tbody>\n",
              "</table>\n",
              "</div>\n",
              "      <button class=\"colab-df-convert\" onclick=\"convertToInteractive('df-feb7094f-c2f3-44cf-ab37-62f42c6889cb')\"\n",
              "              title=\"Convert this dataframe to an interactive table.\"\n",
              "              style=\"display:none;\">\n",
              "        \n",
              "  <svg xmlns=\"http://www.w3.org/2000/svg\" height=\"24px\"viewBox=\"0 0 24 24\"\n",
              "       width=\"24px\">\n",
              "    <path d=\"M0 0h24v24H0V0z\" fill=\"none\"/>\n",
              "    <path d=\"M18.56 5.44l.94 2.06.94-2.06 2.06-.94-2.06-.94-.94-2.06-.94 2.06-2.06.94zm-11 1L8.5 8.5l.94-2.06 2.06-.94-2.06-.94L8.5 2.5l-.94 2.06-2.06.94zm10 10l.94 2.06.94-2.06 2.06-.94-2.06-.94-.94-2.06-.94 2.06-2.06.94z\"/><path d=\"M17.41 7.96l-1.37-1.37c-.4-.4-.92-.59-1.43-.59-.52 0-1.04.2-1.43.59L10.3 9.45l-7.72 7.72c-.78.78-.78 2.05 0 2.83L4 21.41c.39.39.9.59 1.41.59.51 0 1.02-.2 1.41-.59l7.78-7.78 2.81-2.81c.8-.78.8-2.07 0-2.86zM5.41 20L4 18.59l7.72-7.72 1.47 1.35L5.41 20z\"/>\n",
              "  </svg>\n",
              "      </button>\n",
              "      \n",
              "  <style>\n",
              "    .colab-df-container {\n",
              "      display:flex;\n",
              "      flex-wrap:wrap;\n",
              "      gap: 12px;\n",
              "    }\n",
              "\n",
              "    .colab-df-convert {\n",
              "      background-color: #E8F0FE;\n",
              "      border: none;\n",
              "      border-radius: 50%;\n",
              "      cursor: pointer;\n",
              "      display: none;\n",
              "      fill: #1967D2;\n",
              "      height: 32px;\n",
              "      padding: 0 0 0 0;\n",
              "      width: 32px;\n",
              "    }\n",
              "\n",
              "    .colab-df-convert:hover {\n",
              "      background-color: #E2EBFA;\n",
              "      box-shadow: 0px 1px 2px rgba(60, 64, 67, 0.3), 0px 1px 3px 1px rgba(60, 64, 67, 0.15);\n",
              "      fill: #174EA6;\n",
              "    }\n",
              "\n",
              "    [theme=dark] .colab-df-convert {\n",
              "      background-color: #3B4455;\n",
              "      fill: #D2E3FC;\n",
              "    }\n",
              "\n",
              "    [theme=dark] .colab-df-convert:hover {\n",
              "      background-color: #434B5C;\n",
              "      box-shadow: 0px 1px 3px 1px rgba(0, 0, 0, 0.15);\n",
              "      filter: drop-shadow(0px 1px 2px rgba(0, 0, 0, 0.3));\n",
              "      fill: #FFFFFF;\n",
              "    }\n",
              "  </style>\n",
              "\n",
              "      <script>\n",
              "        const buttonEl =\n",
              "          document.querySelector('#df-feb7094f-c2f3-44cf-ab37-62f42c6889cb button.colab-df-convert');\n",
              "        buttonEl.style.display =\n",
              "          google.colab.kernel.accessAllowed ? 'block' : 'none';\n",
              "\n",
              "        async function convertToInteractive(key) {\n",
              "          const element = document.querySelector('#df-feb7094f-c2f3-44cf-ab37-62f42c6889cb');\n",
              "          const dataTable =\n",
              "            await google.colab.kernel.invokeFunction('convertToInteractive',\n",
              "                                                     [key], {});\n",
              "          if (!dataTable) return;\n",
              "\n",
              "          const docLinkHtml = 'Like what you see? Visit the ' +\n",
              "            '<a target=\"_blank\" href=https://colab.research.google.com/notebooks/data_table.ipynb>data table notebook</a>'\n",
              "            + ' to learn more about interactive tables.';\n",
              "          element.innerHTML = '';\n",
              "          dataTable['output_type'] = 'display_data';\n",
              "          await google.colab.output.renderOutput(dataTable, element);\n",
              "          const docLink = document.createElement('div');\n",
              "          docLink.innerHTML = docLinkHtml;\n",
              "          element.appendChild(docLink);\n",
              "        }\n",
              "      </script>\n",
              "    </div>\n",
              "  </div>\n",
              "  "
            ]
          },
          "metadata": {},
          "execution_count": 14
        }
      ],
      "source": [
        "main_df['description_encoded'] = main_df['description_tokenized'].apply(encode_word)\n",
        "test_df['description_encoded'] = test_df['description_tokenized'].apply(encode_word)\n",
        "main_df.sample(5)"
      ]
    },
    {
      "cell_type": "code",
      "execution_count": 15,
      "metadata": {
        "colab": {
          "base_uri": "https://localhost:8080/",
          "height": 206
        },
        "id": "aT3S5e-8mM1c",
        "outputId": "df8d35e0-9816-4b25-e9aa-9a3d7b6c6d5e"
      },
      "outputs": [
        {
          "output_type": "execute_result",
          "data": {
            "text/plain": [
              "                         films_name     genre  \\\n",
              "0      Oscar et la dame rose (2009)     drama   \n",
              "1                      Cupid (1997)  thriller   \n",
              "2  Young, Wild and Wonderful (1980)     adult   \n",
              "3             The Secret Sin (1915)     drama   \n",
              "4            The Unrecovered (2007)     drama   \n",
              "\n",
              "                                         description  \\\n",
              "0  Listening in to a conversation between his doc...   \n",
              "1  A brother and sister with a past incestuous re...   \n",
              "2  As the bus empties the students for their fiel...   \n",
              "3  To help their unemployed father make ends meet...   \n",
              "4  The film's title refers not only to the un-rec...   \n",
              "\n",
              "                               description_tokenized  \\\n",
              "0  [listening, conversation, doctor, parents, 10-...   \n",
              "1  [brother, sister, past, incestuous, relationsh...   \n",
              "2  [bus, empties, students, field, trip, museum, ...   \n",
              "3  [help, unemployed, father, make, ends, meet, e...   \n",
              "4  [film, 's, title, refers, un-recovered, bodies...   \n",
              "\n",
              "                                 description_encoded  genre_numeric  \n",
              "0  [16800, 85997, 6785, 0, 0, 18033, 88388, 10705...              8  \n",
              "1  [102674, 21201, 65184, 19616, 32633, 8522, 832...             24  \n",
              "2  [102035, 0, 0, 33916, 92641, 75453, 101698, 74...              1  \n",
              "3  [28913, 74515, 20781, 58934, 0, 101227, 104912...              8  \n",
              "4  [50128, 0, 50619, 45583, 0, 0, 88473, 98157, 6...              8  "
            ],
            "text/html": [
              "\n",
              "  <div id=\"df-5aaf43ec-cdb8-4255-9edc-436b9593c7ca\">\n",
              "    <div class=\"colab-df-container\">\n",
              "      <div>\n",
              "<style scoped>\n",
              "    .dataframe tbody tr th:only-of-type {\n",
              "        vertical-align: middle;\n",
              "    }\n",
              "\n",
              "    .dataframe tbody tr th {\n",
              "        vertical-align: top;\n",
              "    }\n",
              "\n",
              "    .dataframe thead th {\n",
              "        text-align: right;\n",
              "    }\n",
              "</style>\n",
              "<table border=\"1\" class=\"dataframe\">\n",
              "  <thead>\n",
              "    <tr style=\"text-align: right;\">\n",
              "      <th></th>\n",
              "      <th>films_name</th>\n",
              "      <th>genre</th>\n",
              "      <th>description</th>\n",
              "      <th>description_tokenized</th>\n",
              "      <th>description_encoded</th>\n",
              "      <th>genre_numeric</th>\n",
              "    </tr>\n",
              "  </thead>\n",
              "  <tbody>\n",
              "    <tr>\n",
              "      <th>0</th>\n",
              "      <td>Oscar et la dame rose (2009)</td>\n",
              "      <td>drama</td>\n",
              "      <td>Listening in to a conversation between his doc...</td>\n",
              "      <td>[listening, conversation, doctor, parents, 10-...</td>\n",
              "      <td>[16800, 85997, 6785, 0, 0, 18033, 88388, 10705...</td>\n",
              "      <td>8</td>\n",
              "    </tr>\n",
              "    <tr>\n",
              "      <th>1</th>\n",
              "      <td>Cupid (1997)</td>\n",
              "      <td>thriller</td>\n",
              "      <td>A brother and sister with a past incestuous re...</td>\n",
              "      <td>[brother, sister, past, incestuous, relationsh...</td>\n",
              "      <td>[102674, 21201, 65184, 19616, 32633, 8522, 832...</td>\n",
              "      <td>24</td>\n",
              "    </tr>\n",
              "    <tr>\n",
              "      <th>2</th>\n",
              "      <td>Young, Wild and Wonderful (1980)</td>\n",
              "      <td>adult</td>\n",
              "      <td>As the bus empties the students for their fiel...</td>\n",
              "      <td>[bus, empties, students, field, trip, museum, ...</td>\n",
              "      <td>[102035, 0, 0, 33916, 92641, 75453, 101698, 74...</td>\n",
              "      <td>1</td>\n",
              "    </tr>\n",
              "    <tr>\n",
              "      <th>3</th>\n",
              "      <td>The Secret Sin (1915)</td>\n",
              "      <td>drama</td>\n",
              "      <td>To help their unemployed father make ends meet...</td>\n",
              "      <td>[help, unemployed, father, make, ends, meet, e...</td>\n",
              "      <td>[28913, 74515, 20781, 58934, 0, 101227, 104912...</td>\n",
              "      <td>8</td>\n",
              "    </tr>\n",
              "    <tr>\n",
              "      <th>4</th>\n",
              "      <td>The Unrecovered (2007)</td>\n",
              "      <td>drama</td>\n",
              "      <td>The film's title refers not only to the un-rec...</td>\n",
              "      <td>[film, 's, title, refers, un-recovered, bodies...</td>\n",
              "      <td>[50128, 0, 50619, 45583, 0, 0, 88473, 98157, 6...</td>\n",
              "      <td>8</td>\n",
              "    </tr>\n",
              "  </tbody>\n",
              "</table>\n",
              "</div>\n",
              "      <button class=\"colab-df-convert\" onclick=\"convertToInteractive('df-5aaf43ec-cdb8-4255-9edc-436b9593c7ca')\"\n",
              "              title=\"Convert this dataframe to an interactive table.\"\n",
              "              style=\"display:none;\">\n",
              "        \n",
              "  <svg xmlns=\"http://www.w3.org/2000/svg\" height=\"24px\"viewBox=\"0 0 24 24\"\n",
              "       width=\"24px\">\n",
              "    <path d=\"M0 0h24v24H0V0z\" fill=\"none\"/>\n",
              "    <path d=\"M18.56 5.44l.94 2.06.94-2.06 2.06-.94-2.06-.94-.94-2.06-.94 2.06-2.06.94zm-11 1L8.5 8.5l.94-2.06 2.06-.94-2.06-.94L8.5 2.5l-.94 2.06-2.06.94zm10 10l.94 2.06.94-2.06 2.06-.94-2.06-.94-.94-2.06-.94 2.06-2.06.94z\"/><path d=\"M17.41 7.96l-1.37-1.37c-.4-.4-.92-.59-1.43-.59-.52 0-1.04.2-1.43.59L10.3 9.45l-7.72 7.72c-.78.78-.78 2.05 0 2.83L4 21.41c.39.39.9.59 1.41.59.51 0 1.02-.2 1.41-.59l7.78-7.78 2.81-2.81c.8-.78.8-2.07 0-2.86zM5.41 20L4 18.59l7.72-7.72 1.47 1.35L5.41 20z\"/>\n",
              "  </svg>\n",
              "      </button>\n",
              "      \n",
              "  <style>\n",
              "    .colab-df-container {\n",
              "      display:flex;\n",
              "      flex-wrap:wrap;\n",
              "      gap: 12px;\n",
              "    }\n",
              "\n",
              "    .colab-df-convert {\n",
              "      background-color: #E8F0FE;\n",
              "      border: none;\n",
              "      border-radius: 50%;\n",
              "      cursor: pointer;\n",
              "      display: none;\n",
              "      fill: #1967D2;\n",
              "      height: 32px;\n",
              "      padding: 0 0 0 0;\n",
              "      width: 32px;\n",
              "    }\n",
              "\n",
              "    .colab-df-convert:hover {\n",
              "      background-color: #E2EBFA;\n",
              "      box-shadow: 0px 1px 2px rgba(60, 64, 67, 0.3), 0px 1px 3px 1px rgba(60, 64, 67, 0.15);\n",
              "      fill: #174EA6;\n",
              "    }\n",
              "\n",
              "    [theme=dark] .colab-df-convert {\n",
              "      background-color: #3B4455;\n",
              "      fill: #D2E3FC;\n",
              "    }\n",
              "\n",
              "    [theme=dark] .colab-df-convert:hover {\n",
              "      background-color: #434B5C;\n",
              "      box-shadow: 0px 1px 3px 1px rgba(0, 0, 0, 0.15);\n",
              "      filter: drop-shadow(0px 1px 2px rgba(0, 0, 0, 0.3));\n",
              "      fill: #FFFFFF;\n",
              "    }\n",
              "  </style>\n",
              "\n",
              "      <script>\n",
              "        const buttonEl =\n",
              "          document.querySelector('#df-5aaf43ec-cdb8-4255-9edc-436b9593c7ca button.colab-df-convert');\n",
              "        buttonEl.style.display =\n",
              "          google.colab.kernel.accessAllowed ? 'block' : 'none';\n",
              "\n",
              "        async function convertToInteractive(key) {\n",
              "          const element = document.querySelector('#df-5aaf43ec-cdb8-4255-9edc-436b9593c7ca');\n",
              "          const dataTable =\n",
              "            await google.colab.kernel.invokeFunction('convertToInteractive',\n",
              "                                                     [key], {});\n",
              "          if (!dataTable) return;\n",
              "\n",
              "          const docLinkHtml = 'Like what you see? Visit the ' +\n",
              "            '<a target=\"_blank\" href=https://colab.research.google.com/notebooks/data_table.ipynb>data table notebook</a>'\n",
              "            + ' to learn more about interactive tables.';\n",
              "          element.innerHTML = '';\n",
              "          dataTable['output_type'] = 'display_data';\n",
              "          await google.colab.output.renderOutput(dataTable, element);\n",
              "          const docLink = document.createElement('div');\n",
              "          docLink.innerHTML = docLinkHtml;\n",
              "          element.appendChild(docLink);\n",
              "        }\n",
              "      </script>\n",
              "    </div>\n",
              "  </div>\n",
              "  "
            ]
          },
          "metadata": {},
          "execution_count": 15
        }
      ],
      "source": [
        "main_df['genre_numeric'], genres = pd.factorize(main_df['genre'], sort=True)\n",
        "test_df['genre_numeric'], test_genres =  pd.factorize(test_df['genre'], sort=True)\n",
        "main_df.head(5)"
      ]
    },
    {
      "cell_type": "code",
      "source": [
        "genres == test_genres"
      ],
      "metadata": {
        "colab": {
          "base_uri": "https://localhost:8080/"
        },
        "id": "ztSgj-GpgdVp",
        "outputId": "8987f8a0-c5e9-4c00-c31a-a2409b59b982"
      },
      "execution_count": 16,
      "outputs": [
        {
          "output_type": "execute_result",
          "data": {
            "text/plain": [
              "array([ True,  True,  True,  True,  True,  True,  True,  True,  True,\n",
              "        True,  True,  True,  True,  True,  True,  True,  True,  True,\n",
              "        True,  True,  True,  True,  True,  True,  True,  True,  True])"
            ]
          },
          "metadata": {},
          "execution_count": 16
        }
      ]
    },
    {
      "cell_type": "code",
      "source": [
        "# Добавим столбец с кол-вом слов в тексте\n",
        "main_df['len_seq'] = main_df.description_tokenized.apply(len)"
      ],
      "metadata": {
        "id": "KsV5FonjtBJU"
      },
      "execution_count": 17,
      "outputs": []
    },
    {
      "cell_type": "code",
      "execution_count": 18,
      "metadata": {
        "colab": {
          "base_uri": "https://localhost:8080/",
          "height": 624
        },
        "id": "mQzgNfQIoptA",
        "outputId": "4ecb9deb-670d-4beb-edfd-2dc0e7db3bb8"
      },
      "outputs": [
        {
          "output_type": "execute_result",
          "data": {
            "text/plain": [
              "<matplotlib.axes._subplots.AxesSubplot at 0x7f94a6ec7650>"
            ]
          },
          "metadata": {},
          "execution_count": 18
        },
        {
          "output_type": "display_data",
          "data": {
            "text/plain": [
              "<Figure size 1080x720 with 1 Axes>"
            ],
            "image/png": "[encoded data removed]"
          },
          "metadata": {
            "needs_background": "light"
          }
        }
      ],
      "source": [
        "# Построим распределение\n",
        "plt.rcParams['figure.figsize'] = (15,10)\n",
        "sns.histplot(main_df.len_seq)"
      ]
    },
    {
      "cell_type": "markdown",
      "source": [
        "Как видим, большинство описаний имеют длину менее 200 слов"
      ],
      "metadata": {
        "id": "yseyEqqGjNp4"
      }
    },
    {
      "cell_type": "code",
      "execution_count": 19,
      "metadata": {
        "colab": {
          "base_uri": "https://localhost:8080/"
        },
        "id": "n50dp01QgwOI",
        "outputId": "d039a36c-3c68-47b2-a1a0-62120ec0a1ac"
      },
      "outputs": [
        {
          "output_type": "stream",
          "name": "stdout",
          "text": [
            "максимальная длина последовательности: 1481\n"
          ]
        }
      ],
      "source": [
        "max_len = np.max([len(list_) for list_ in main_df.description_encoded.values])\n",
        "print(f\"максимальная длина последовательности: {max_len}\")"
      ]
    },
    {
      "cell_type": "markdown",
      "source": [
        "Поскольку длина последовательности сильно скащывается на времени обучения, ограничимся длиной 200"
      ],
      "metadata": {
        "id": "li924qVjvskZ"
      }
    },
    {
      "cell_type": "code",
      "source": [
        "SEQ_LEN=200"
      ],
      "metadata": {
        "id": "4naVLhAUw50i"
      },
      "execution_count": 20,
      "outputs": []
    },
    {
      "cell_type": "code",
      "execution_count": 39,
      "metadata": {
        "colab": {
          "base_uri": "https://localhost:8080/",
          "height": 606
        },
        "id": "lPHV5SfajZhF",
        "outputId": "63c67aa4-ce5b-4a3d-f0d1-49486437d0d0"
      },
      "outputs": [
        {
          "output_type": "display_data",
          "data": {
            "text/plain": [
              "<Figure size 1440x720 with 1 Axes>"
            ],
            "image/png": "[encoded data removed]"
          },
          "metadata": {
            "needs_background": "light"
          }
        }
      ],
      "source": [
        "# Также построим распределение целевой переменной\n",
        "plt.rcParams['figure.figsize'] = (20,10)\n",
        "data = main_df.groupby(by='genre', as_index=False, ).count().sort_values(by='films_name', ascending=False)\n",
        "ax = sns.barplot(data=data, y='genre', x='films_name', alpha=0.8)\n",
        "ax.set_xlabel('genre count')\n",
        "plt.show()"
      ]
    },
    {
      "cell_type": "markdown",
      "source": [
        "Как видим данные сильно не сбалансированы, и из 27 жанров явно выделяются драма, комендия, документальный и short. Также можно добавить к рассмотрению такие жанры как horror, thriller, crime, action поскольку описания подобных фильмов скорее всего будут похожи. Остальные фильмы на данном этапе объеденим в жанр others. После построения модели для выбранных жанров необходимо будет провести исследования для оставшихся"
      ],
      "metadata": {
        "id": "QoBeNkRtDGWt"
      }
    },
    {
      "cell_type": "code",
      "source": [
        "popular_genres = ['drama', 'documentary', 'comedy', 'short', 'horror', 'thriller', 'action', 'western']\n",
        "popular_count = main_df[main_df.genre.isin(popular_genres)].shape[0]\n",
        "unpopular_count = main_df[~main_df.genre.isin(popular_genres)].shape[0]\n",
        "print(f'Кол-во фильмов популярных жанров: {popular_count}\\nКол-во фильмов непопулярных жанров: {unpopular_count}')\n",
        "plt.rcParams['figure.figsize'] = (12,6)\n",
        "sns.barplot(x=['popular', 'unpopular'], y=[popular_count, unpopular_count])\n",
        "plt.show()"
      ],
      "metadata": {
        "colab": {
          "base_uri": "https://localhost:8080/",
          "height": 411
        },
        "id": "xnloAeDQCA8E",
        "outputId": "7dec6845-c43a-4130-e832-4079b8c69699"
      },
      "execution_count": 53,
      "outputs": [
        {
          "output_type": "stream",
          "name": "stdout",
          "text": [
            "Кол-во фильмов популярных жанров: 45371\n",
            "Кол-во фильмов непопулярных жанров: 8843\n"
          ]
        },
        {
          "output_type": "display_data",
          "data": {
            "text/plain": [
              "<Figure size 864x432 with 1 Axes>"
            ],
            "image/png": "[encoded data removed]"
          },
          "metadata": {
            "needs_background": "light"
          }
        }
      ]
    },
    {
      "cell_type": "markdown",
      "source": [
        "Как видно из графика выбранные жанры охватывают большее число отзывов"
      ],
      "metadata": {
        "id": "tI8bCpdeBCXV"
      }
    },
    {
      "cell_type": "code",
      "source": [
        "# Препобразуем остальные жанры в тип other\n",
        "popular_genres_df = main_df.copy(deep=True)\n",
        "popular_genres_df['genre'] = popular_genres_df['genre'].apply(lambda x: x if x in popular_genres else 'other')\n",
        "popular_genres_test_df = test_df.copy(deep=True)\n",
        "popular_genres_test_df['genre'] = test_df['genre'].apply(lambda x: x if x in popular_genres else 'other')\n",
        "popular_genres_df.head(5)"
      ],
      "metadata": {
        "colab": {
          "base_uri": "https://localhost:8080/",
          "height": 206
        },
        "id": "kmfbRRtU9JR7",
        "outputId": "58ca8b93-4a1e-4234-c07f-f9e838ed2386"
      },
      "execution_count": 66,
      "outputs": [
        {
          "output_type": "execute_result",
          "data": {
            "text/plain": [
              "                         films_name     genre  \\\n",
              "0      Oscar et la dame rose (2009)     drama   \n",
              "1                      Cupid (1997)  thriller   \n",
              "2  Young, Wild and Wonderful (1980)     other   \n",
              "3             The Secret Sin (1915)     drama   \n",
              "4            The Unrecovered (2007)     drama   \n",
              "\n",
              "                                         description  \\\n",
              "0  Listening in to a conversation between his doc...   \n",
              "1  A brother and sister with a past incestuous re...   \n",
              "2  As the bus empties the students for their fiel...   \n",
              "3  To help their unemployed father make ends meet...   \n",
              "4  The film's title refers not only to the un-rec...   \n",
              "\n",
              "                               description_tokenized  \\\n",
              "0  [listening, conversation, doctor, parents, 10-...   \n",
              "1  [brother, sister, past, incestuous, relationsh...   \n",
              "2  [bus, empties, students, field, trip, museum, ...   \n",
              "3  [help, unemployed, father, make, ends, meet, e...   \n",
              "4  [film, 's, title, refers, un-recovered, bodies...   \n",
              "\n",
              "                                 description_encoded  genre_numeric  len_seq  \n",
              "0  [16800, 85997, 6785, 0, 0, 18033, 88388, 10705...              8       51  \n",
              "1  [102674, 21201, 65184, 19616, 32633, 8522, 832...             24       15  \n",
              "2  [102035, 0, 0, 33916, 92641, 75453, 101698, 74...              1       60  \n",
              "3  [28913, 74515, 20781, 58934, 0, 101227, 104912...              8      109  \n",
              "4  [50128, 0, 50619, 45583, 0, 0, 88473, 98157, 6...              8       58  "
            ],
            "text/html": [
              "\n",
              "  <div id=\"df-a8f7a336-f800-44a1-8a01-d45228e2ef62\">\n",
              "    <div class=\"colab-df-container\">\n",
              "      <div>\n",
              "<style scoped>\n",
              "    .dataframe tbody tr th:only-of-type {\n",
              "        vertical-align: middle;\n",
              "    }\n",
              "\n",
              "    .dataframe tbody tr th {\n",
              "        vertical-align: top;\n",
              "    }\n",
              "\n",
              "    .dataframe thead th {\n",
              "        text-align: right;\n",
              "    }\n",
              "</style>\n",
              "<table border=\"1\" class=\"dataframe\">\n",
              "  <thead>\n",
              "    <tr style=\"text-align: right;\">\n",
              "      <th></th>\n",
              "      <th>films_name</th>\n",
              "      <th>genre</th>\n",
              "      <th>description</th>\n",
              "      <th>description_tokenized</th>\n",
              "      <th>description_encoded</th>\n",
              "      <th>genre_numeric</th>\n",
              "      <th>len_seq</th>\n",
              "    </tr>\n",
              "  </thead>\n",
              "  <tbody>\n",
              "    <tr>\n",
              "      <th>0</th>\n",
              "      <td>Oscar et la dame rose (2009)</td>\n",
              "      <td>drama</td>\n",
              "      <td>Listening in to a conversation between his doc...</td>\n",
              "      <td>[listening, conversation, doctor, parents, 10-...</td>\n",
              "      <td>[16800, 85997, 6785, 0, 0, 18033, 88388, 10705...</td>\n",
              "      <td>8</td>\n",
              "      <td>51</td>\n",
              "    </tr>\n",
              "    <tr>\n",
              "      <th>1</th>\n",
              "      <td>Cupid (1997)</td>\n",
              "      <td>thriller</td>\n",
              "      <td>A brother and sister with a past incestuous re...</td>\n",
              "      <td>[brother, sister, past, incestuous, relationsh...</td>\n",
              "      <td>[102674, 21201, 65184, 19616, 32633, 8522, 832...</td>\n",
              "      <td>24</td>\n",
              "      <td>15</td>\n",
              "    </tr>\n",
              "    <tr>\n",
              "      <th>2</th>\n",
              "      <td>Young, Wild and Wonderful (1980)</td>\n",
              "      <td>other</td>\n",
              "      <td>As the bus empties the students for their fiel...</td>\n",
              "      <td>[bus, empties, students, field, trip, museum, ...</td>\n",
              "      <td>[102035, 0, 0, 33916, 92641, 75453, 101698, 74...</td>\n",
              "      <td>1</td>\n",
              "      <td>60</td>\n",
              "    </tr>\n",
              "    <tr>\n",
              "      <th>3</th>\n",
              "      <td>The Secret Sin (1915)</td>\n",
              "      <td>drama</td>\n",
              "      <td>To help their unemployed father make ends meet...</td>\n",
              "      <td>[help, unemployed, father, make, ends, meet, e...</td>\n",
              "      <td>[28913, 74515, 20781, 58934, 0, 101227, 104912...</td>\n",
              "      <td>8</td>\n",
              "      <td>109</td>\n",
              "    </tr>\n",
              "    <tr>\n",
              "      <th>4</th>\n",
              "      <td>The Unrecovered (2007)</td>\n",
              "      <td>drama</td>\n",
              "      <td>The film's title refers not only to the un-rec...</td>\n",
              "      <td>[film, 's, title, refers, un-recovered, bodies...</td>\n",
              "      <td>[50128, 0, 50619, 45583, 0, 0, 88473, 98157, 6...</td>\n",
              "      <td>8</td>\n",
              "      <td>58</td>\n",
              "    </tr>\n",
              "  </tbody>\n",
              "</table>\n",
              "</div>\n",
              "      <button class=\"colab-df-convert\" onclick=\"convertToInteractive('df-a8f7a336-f800-44a1-8a01-d45228e2ef62')\"\n",
              "              title=\"Convert this dataframe to an interactive table.\"\n",
              "              style=\"display:none;\">\n",
              "        \n",
              "  <svg xmlns=\"http://www.w3.org/2000/svg\" height=\"24px\"viewBox=\"0 0 24 24\"\n",
              "       width=\"24px\">\n",
              "    <path d=\"M0 0h24v24H0V0z\" fill=\"none\"/>\n",
              "    <path d=\"M18.56 5.44l.94 2.06.94-2.06 2.06-.94-2.06-.94-.94-2.06-.94 2.06-2.06.94zm-11 1L8.5 8.5l.94-2.06 2.06-.94-2.06-.94L8.5 2.5l-.94 2.06-2.06.94zm10 10l.94 2.06.94-2.06 2.06-.94-2.06-.94-.94-2.06-.94 2.06-2.06.94z\"/><path d=\"M17.41 7.96l-1.37-1.37c-.4-.4-.92-.59-1.43-.59-.52 0-1.04.2-1.43.59L10.3 9.45l-7.72 7.72c-.78.78-.78 2.05 0 2.83L4 21.41c.39.39.9.59 1.41.59.51 0 1.02-.2 1.41-.59l7.78-7.78 2.81-2.81c.8-.78.8-2.07 0-2.86zM5.41 20L4 18.59l7.72-7.72 1.47 1.35L5.41 20z\"/>\n",
              "  </svg>\n",
              "      </button>\n",
              "      \n",
              "  <style>\n",
              "    .colab-df-container {\n",
              "      display:flex;\n",
              "      flex-wrap:wrap;\n",
              "      gap: 12px;\n",
              "    }\n",
              "\n",
              "    .colab-df-convert {\n",
              "      background-color: #E8F0FE;\n",
              "      border: none;\n",
              "      border-radius: 50%;\n",
              "      cursor: pointer;\n",
              "      display: none;\n",
              "      fill: #1967D2;\n",
              "      height: 32px;\n",
              "      padding: 0 0 0 0;\n",
              "      width: 32px;\n",
              "    }\n",
              "\n",
              "    .colab-df-convert:hover {\n",
              "      background-color: #E2EBFA;\n",
              "      box-shadow: 0px 1px 2px rgba(60, 64, 67, 0.3), 0px 1px 3px 1px rgba(60, 64, 67, 0.15);\n",
              "      fill: #174EA6;\n",
              "    }\n",
              "\n",
              "    [theme=dark] .colab-df-convert {\n",
              "      background-color: #3B4455;\n",
              "      fill: #D2E3FC;\n",
              "    }\n",
              "\n",
              "    [theme=dark] .colab-df-convert:hover {\n",
              "      background-color: #434B5C;\n",
              "      box-shadow: 0px 1px 3px 1px rgba(0, 0, 0, 0.15);\n",
              "      filter: drop-shadow(0px 1px 2px rgba(0, 0, 0, 0.3));\n",
              "      fill: #FFFFFF;\n",
              "    }\n",
              "  </style>\n",
              "\n",
              "      <script>\n",
              "        const buttonEl =\n",
              "          document.querySelector('#df-a8f7a336-f800-44a1-8a01-d45228e2ef62 button.colab-df-convert');\n",
              "        buttonEl.style.display =\n",
              "          google.colab.kernel.accessAllowed ? 'block' : 'none';\n",
              "\n",
              "        async function convertToInteractive(key) {\n",
              "          const element = document.querySelector('#df-a8f7a336-f800-44a1-8a01-d45228e2ef62');\n",
              "          const dataTable =\n",
              "            await google.colab.kernel.invokeFunction('convertToInteractive',\n",
              "                                                     [key], {});\n",
              "          if (!dataTable) return;\n",
              "\n",
              "          const docLinkHtml = 'Like what you see? Visit the ' +\n",
              "            '<a target=\"_blank\" href=https://colab.research.google.com/notebooks/data_table.ipynb>data table notebook</a>'\n",
              "            + ' to learn more about interactive tables.';\n",
              "          element.innerHTML = '';\n",
              "          dataTable['output_type'] = 'display_data';\n",
              "          await google.colab.output.renderOutput(dataTable, element);\n",
              "          const docLink = document.createElement('div');\n",
              "          docLink.innerHTML = docLinkHtml;\n",
              "          element.appendChild(docLink);\n",
              "        }\n",
              "      </script>\n",
              "    </div>\n",
              "  </div>\n",
              "  "
            ]
          },
          "metadata": {},
          "execution_count": 66
        }
      ]
    },
    {
      "cell_type": "code",
      "source": [
        "# Также необходимо изменить численные значения жанров фильмов\n",
        "popular_genres_df.drop(columns=['genre_numeric'])\n",
        "popular_genres_test_df.drop(columns=['genre_numeric'])\n",
        "popular_genres_df['genre_numeric'], genres = pd.factorize(popular_genres_df['genre'], sort=True)\n",
        "popular_genres_test_df['genre_numeric'], test_genres =  pd.factorize(popular_genres_test_df['genre'], sort=True)\n",
        "#Проверяем что жанры их тренировочного и тестового набора соответствуют друг другу\n",
        "test_genres == genres"
      ],
      "metadata": {
        "colab": {
          "base_uri": "https://localhost:8080/"
        },
        "id": "k49CG45nBxHM",
        "outputId": "d5856270-99ae-46df-8402-5c24099a36f0"
      },
      "execution_count": 67,
      "outputs": [
        {
          "output_type": "execute_result",
          "data": {
            "text/plain": [
              "array([ True,  True,  True,  True,  True,  True,  True,  True,  True])"
            ]
          },
          "metadata": {},
          "execution_count": 67
        }
      ]
    },
    {
      "cell_type": "code",
      "execution_count": 69,
      "metadata": {
        "id": "glCXi4Zsi5Hm"
      },
      "outputs": [],
      "source": [
        "# Подготовим тестовые и тренировочные наборы, выбранное значение длины последовательности слов на данные момент составляет 200\n",
        "train_data = tf.keras.preprocessing.sequence.pad_sequences(popular_generes_df.description_encoded.values, \n",
        "                                                           value=vocab[\"<PAD>\"],\n",
        "                                                           padding='post',\n",
        "                                                           maxlen=SEQ_LEN)\n",
        "\n",
        "test_data = tf.keras.preprocessing.sequence.pad_sequences(popular_genres_test_df.description_encoded.values, \n",
        "                                                          value=vocab[\"<PAD>\"],\n",
        "                                                          padding='post',\n",
        "                                                          maxlen=SEQ_LEN)"
      ]
    },
    {
      "cell_type": "code",
      "execution_count": 70,
      "metadata": {
        "colab": {
          "base_uri": "https://localhost:8080/"
        },
        "id": "HBuBjO05hQ0X",
        "outputId": "b2d37c86-c6d8-4308-dc38-10a846ff3613"
      },
      "outputs": [
        {
          "output_type": "execute_result",
          "data": {
            "text/plain": [
              "107607"
            ]
          },
          "metadata": {},
          "execution_count": 70
        }
      ],
      "source": [
        "# Увеличиваем размер словаря на 1, т.к. мы добавили туда значение паддинга\n",
        "VOCAB_SIZE = np.max(list(vocab.values()))+1\n",
        "VOCAB_SIZE"
      ]
    },
    {
      "cell_type": "code",
      "source": [
        "# В качестве первой модели рассмотрим двунаправленную LSTM. Поскольку модели\n",
        "# RNN склонны к переобучению добавим регуляризацию с помощью дропаутов \n",
        "model = tf.keras.Sequential([\n",
        "    tf.keras.layers.Embedding(VOCAB_SIZE, 128),\n",
        "    tf.keras.layers.Bidirectional(\n",
        "        tf.keras.layers.LSTM(256, return_sequences=True, dropout=0.5, recurrent_dropout=0.5)),\n",
        "    tf.keras.layers.Bidirectional(\n",
        "        tf.keras.layers.LSTM(128, return_sequences=False, dropout=0.5, recurrent_dropout=0.5)),\n",
        "    tf.keras.layers.Dense(len(genres)),\n",
        "])\n",
        "\n",
        "model.summary()"
      ],
      "metadata": {
        "colab": {
          "base_uri": "https://localhost:8080/"
        },
        "id": "2F8WaKs1I070",
        "outputId": "1867b4bb-aa0c-4332-f5fe-cef179b1e2c6"
      },
      "execution_count": 80,
      "outputs": [
        {
          "output_type": "stream",
          "name": "stdout",
          "text": [
            "WARNING:tensorflow:Layer lstm_2 will not use cuDNN kernels since it doesn't meet the criteria. It will use a generic GPU kernel as fallback when running on GPU.\n"
          ]
        },
        {
          "output_type": "stream",
          "name": "stderr",
          "text": [
            "WARNING:tensorflow:Layer lstm_2 will not use cuDNN kernels since it doesn't meet the criteria. It will use a generic GPU kernel as fallback when running on GPU.\n"
          ]
        },
        {
          "output_type": "stream",
          "name": "stdout",
          "text": [
            "WARNING:tensorflow:Layer lstm_2 will not use cuDNN kernels since it doesn't meet the criteria. It will use a generic GPU kernel as fallback when running on GPU.\n"
          ]
        },
        {
          "output_type": "stream",
          "name": "stderr",
          "text": [
            "WARNING:tensorflow:Layer lstm_2 will not use cuDNN kernels since it doesn't meet the criteria. It will use a generic GPU kernel as fallback when running on GPU.\n"
          ]
        },
        {
          "output_type": "stream",
          "name": "stdout",
          "text": [
            "WARNING:tensorflow:Layer lstm_2 will not use cuDNN kernels since it doesn't meet the criteria. It will use a generic GPU kernel as fallback when running on GPU.\n"
          ]
        },
        {
          "output_type": "stream",
          "name": "stderr",
          "text": [
            "WARNING:tensorflow:Layer lstm_2 will not use cuDNN kernels since it doesn't meet the criteria. It will use a generic GPU kernel as fallback when running on GPU.\n"
          ]
        },
        {
          "output_type": "stream",
          "name": "stdout",
          "text": [
            "WARNING:tensorflow:Layer lstm_3 will not use cuDNN kernels since it doesn't meet the criteria. It will use a generic GPU kernel as fallback when running on GPU.\n"
          ]
        },
        {
          "output_type": "stream",
          "name": "stderr",
          "text": [
            "WARNING:tensorflow:Layer lstm_3 will not use cuDNN kernels since it doesn't meet the criteria. It will use a generic GPU kernel as fallback when running on GPU.\n"
          ]
        },
        {
          "output_type": "stream",
          "name": "stdout",
          "text": [
            "WARNING:tensorflow:Layer lstm_3 will not use cuDNN kernels since it doesn't meet the criteria. It will use a generic GPU kernel as fallback when running on GPU.\n"
          ]
        },
        {
          "output_type": "stream",
          "name": "stderr",
          "text": [
            "WARNING:tensorflow:Layer lstm_3 will not use cuDNN kernels since it doesn't meet the criteria. It will use a generic GPU kernel as fallback when running on GPU.\n"
          ]
        },
        {
          "output_type": "stream",
          "name": "stdout",
          "text": [
            "WARNING:tensorflow:Layer lstm_3 will not use cuDNN kernels since it doesn't meet the criteria. It will use a generic GPU kernel as fallback when running on GPU.\n"
          ]
        },
        {
          "output_type": "stream",
          "name": "stderr",
          "text": [
            "WARNING:tensorflow:Layer lstm_3 will not use cuDNN kernels since it doesn't meet the criteria. It will use a generic GPU kernel as fallback when running on GPU.\n"
          ]
        },
        {
          "output_type": "stream",
          "name": "stdout",
          "text": [
            "Model: \"sequential_1\"\n",
            "_________________________________________________________________\n",
            " Layer (type)                Output Shape              Param #   \n",
            "=================================================================\n",
            " embedding_1 (Embedding)     (None, None, 128)         13773696  \n",
            "                                                                 \n",
            " bidirectional_2 (Bidirectio  (None, None, 512)        788480    \n",
            " nal)                                                            \n",
            "                                                                 \n",
            " bidirectional_3 (Bidirectio  (None, 256)              656384    \n",
            " nal)                                                            \n",
            "                                                                 \n",
            " dense_1 (Dense)             (None, 9)                 2313      \n",
            "                                                                 \n",
            "=================================================================\n",
            "Total params: 15,220,873\n",
            "Trainable params: 15,220,873\n",
            "Non-trainable params: 0\n",
            "_________________________________________________________________\n"
          ]
        }
      ]
    },
    {
      "cell_type": "code",
      "execution_count": 82,
      "metadata": {
        "id": "3fHSXiqq9Y-e"
      },
      "outputs": [],
      "source": [
        "model.compile(\n",
        "    optimizer=tf.keras.optimizers.Adam(learning_rate=0.0005),\n",
        "    loss=tf.keras.losses.SparseCategoricalCrossentropy(from_logits=True),\n",
        "    metrics=['accuracy']\n",
        ")"
      ]
    },
    {
      "cell_type": "code",
      "source": [
        "#подключаем диск для сохранения модели\n",
        "drive.mount('/gdrive')"
      ],
      "metadata": {
        "colab": {
          "base_uri": "https://localhost:8080/"
        },
        "id": "fZhJWr8vgtRx",
        "outputId": "5037d50d-f1b2-4503-fb9e-71e7fc78913a"
      },
      "execution_count": 73,
      "outputs": [
        {
          "output_type": "stream",
          "name": "stdout",
          "text": [
            "Mounted at /gdrive\n"
          ]
        }
      ]
    },
    {
      "cell_type": "code",
      "execution_count": 83,
      "metadata": {
        "id": "P9yy1JX7fmDR"
      },
      "outputs": [],
      "source": [
        "# Задаем параметры обучения, а также создаем чекпоинт для сохранения модели\n",
        "BATCH_SIZE = 256\n",
        "NUM_EPOCHS = 10\n",
        "\n",
        "checkpoint_path = \"/gdrive/MyDrive/RNN_model/cp_simple_lstm.ckpt\"\n",
        "\n",
        "\n",
        "cp_callback = tf.keras.callbacks.ModelCheckpoint(\n",
        "    filepath=checkpoint_path, \n",
        "    verbose=1, \n",
        "    save_weights_only=True)"
      ]
    },
    {
      "cell_type": "code",
      "source": [
        "history = model.fit(\n",
        "    x=train_data,\n",
        "    y=popular_genres_df['genre_numeric'],\n",
        "    batch_size=BATCH_SIZE,\n",
        "    callbacks=[PlotLossesKeras(), cp_callback],\n",
        "    validation_split = 0.4, \n",
        "    epochs=NUM_EPOCHS)"
      ],
      "metadata": {
        "colab": {
          "base_uri": "https://localhost:8080/",
          "height": 749
        },
        "id": "UJJ-W3qLmTKL",
        "outputId": "63d89bf4-d0ed-4dc4-f374-c722d9eccc6d"
      },
      "execution_count": 84,
      "outputs": [
        {
          "output_type": "display_data",
          "data": {
            "text/plain": [
              "<Figure size 864x576 with 2 Axes>"
            ],
            "image/png": "[encoded data removed]"
          },
          "metadata": {
            "needs_background": "light"
          }
        },
        {
          "output_type": "stream",
          "name": "stdout",
          "text": [
            "accuracy\n",
            "\ttraining         \t (min:    0.367, max:    0.933, cur:    0.933)\n",
            "\tvalidation       \t (min:    0.426, max:    0.506, cur:    0.493)\n",
            "Loss\n",
            "\ttraining         \t (min:    0.221, max:    1.741, cur:    0.221)\n",
            "\tvalidation       \t (min:    1.497, max:    2.317, cur:    2.317)\n",
            "\n",
            "Epoch 10: saving model to /gdrive/MyDrive/RNN_model/cp_simple_lstm.ckpt\n",
            "128/128 [==============================] - 433s 3s/step - loss: 0.2205 - accuracy: 0.9326 - val_loss: 2.3170 - val_accuracy: 0.4926\n"
          ]
        }
      ]
    },
    {
      "cell_type": "markdown",
      "source": [
        "Как видим данная модель показывает всего лишь 49% процентов точности, следовательно нужно либо усложнить модель, либо использовать более сложный подход при переходе от описаний фильмов к численному представлению"
      ],
      "metadata": {
        "id": "CqcVmRKL4sFg"
      }
    },
    {
      "cell_type": "code",
      "source": [
        "drive.mount('/gdrive')"
      ],
      "metadata": {
        "colab": {
          "base_uri": "https://localhost:8080/"
        },
        "id": "2vRYkKyOmcDS",
        "outputId": "af591522-019e-4a8e-e7e4-74335aa434b0"
      },
      "execution_count": null,
      "outputs": [
        {
          "output_type": "stream",
          "name": "stdout",
          "text": [
            "Mounted at /gdrive\n"
          ]
        }
      ]
    },
    {
      "cell_type": "code",
      "source": [
        "checkpoint_path = \"/gdrive/MyDrive/RNN_model/cp_simple_lstm.ckpt\"\n",
        "import os\n",
        "os.chdir('/gdrive')\n",
        "VOCAB_SIZE = 107607\n",
        "model = tf.keras.Sequential([\n",
        "                             tf.keras.layers.Embedding(VOCAB_SIZE, 64),\n",
        "                            tf.keras.layers.Bidirectional(\n",
        "                                tf.keras.layers.LSTM(128, return_sequences=True, dropout=0.2, recurrent_dropout=0.2)),\n",
        "                            tf.keras.layers.Bidirectional(\n",
        "                                tf.keras.layers.LSTM(128, return_sequences=False, dropout=0.2, recurrent_dropout=0.2)),\n",
        "                            tf.keras.layers.Dense(27),\n",
        "                             ])\n",
        "model.compile(\n",
        "    optimizer='adam',\n",
        "    loss=tf.keras.losses.SparseCategoricalCrossentropy(from_logits=True),\n",
        "    metrics=['accuracy']\n",
        ")\n",
        "model.load_weights(checkpoint_path)\n",
        "# model = tf.keras.models.load_model('/MyDrive/RNN_model/cp.ckpt')"
      ],
      "metadata": {
        "colab": {
          "base_uri": "https://localhost:8080/"
        },
        "id": "WY-kKuKGu-wL",
        "outputId": "ba5c94a9-a1aa-4cea-97c0-366172ccd1b7"
      },
      "execution_count": null,
      "outputs": [
        {
          "output_type": "execute_result",
          "data": {
            "text/plain": [
              "<tensorflow.python.training.tracking.util.CheckpointLoadStatus at 0x7f5bd7430110>"
            ]
          },
          "metadata": {},
          "execution_count": 49
        }
      ]
    },
    {
      "cell_type": "code",
      "source": [
        "loss, acc = model.evaluate(test_data, \n",
        "                           test_df.genre_numeric.values, \n",
        "                           verbose=2,\n",
        "                           batch_size=256)\n",
        "print(\"accuracy: {:5.2f}%\".format(100 * acc))"
      ],
      "metadata": {
        "colab": {
          "base_uri": "https://localhost:8080/"
        },
        "id": "bLyysFjqvezZ",
        "outputId": "dc9d9463-68a6-4cc7-8f88-4907e5d2b5fa"
      },
      "execution_count": null,
      "outputs": [
        {
          "output_type": "stream",
          "name": "stdout",
          "text": [
            "212/212 - 498s - loss: 6.3244 - accuracy: 0.1811 - 498s/epoch - 2s/step\n",
            "accuracy: 18.11%\n"
          ]
        }
      ]
    },
    {
      "cell_type": "markdown",
      "source": [
        "Таким образом не смотря на точность в 90% на обучающей выборке при обучении и порядка 50% на валидационной, точность на тестовой выборке составляет всего лишь 20%. Таким образом можно сделать вывод, что для данной модели нужна более глубокая модель, а также бОльшая регуляризация."
      ],
      "metadata": {
        "id": "reFZG59_kRuu"
      }
    }
  ],
  "metadata": {
    "accelerator": "GPU",
    "colab": {
      "collapsed_sections": [],
      "name": "RNN_model.ipynb",
      "provenance": [],
      "authorship_tag": "ABX9TyPRgztq0xeloW8UfvFfNCDM",
      "include_colab_link": true
    },
    "gpuClass": "standard",
    "kernelspec": {
      "display_name": "Python 3",
      "name": "python3"
    },
    "language_info": {
      "name": "python"
    }
  },
  "nbformat": 4,
  "nbformat_minor": 0
}